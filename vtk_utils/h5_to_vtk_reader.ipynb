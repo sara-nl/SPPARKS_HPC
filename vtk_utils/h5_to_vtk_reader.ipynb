{
 "cells": [
  {
   "cell_type": "markdown",
   "metadata": {},
   "source": [
    "# Visualization and Conversion of VTI Image Data from HDF5 Files\n",
    "\n",
    "This notebook is dedicated to processing and visualizing image data sequences stored within HDF5 files. The primary focus is on extracting these data sequences, which are stored as numpy arrays, and then either visualizing them as 2D images or converting them back into 2D slices in VTI format for further analysis and visualization in compatible tools like ParaView.\n",
    "\n",
    "Written by Monica Rotulo (monica.rotulo@surf.nl)\n",
    "\n",
    "## Initialization\n",
    "\n",
    "Let's start installing the required packages and importing the libraries:"
   ]
  },
  {
   "cell_type": "code",
   "execution_count": null,
   "metadata": {},
   "outputs": [],
   "source": [
    "# Install packages \n",
    "!pip install vtk\n",
    "!pip install h5py\n",
    "!pip install pyvista\n",
    "!pip install matplotlib"
   ]
  },
  {
   "cell_type": "code",
   "execution_count": null,
   "metadata": {},
   "outputs": [],
   "source": [
    "#!/usr/bin/env python\n",
    "import os\n",
    "import re\n",
    "from typing import List, Tuple\n",
    "import numpy as np\n",
    "\n",
    "import pyvista as pv\n",
    "import h5py\n",
    "\n",
    "import vtk\n",
    "from vtk.util.numpy_support import vtk_to_numpy, numpy_to_vtk"
   ]
  },
  {
   "cell_type": "markdown",
   "metadata": {},
   "source": [
    "We also define some VTK image data (Uniform rectilinear) constants:"
   ]
  },
  {
   "cell_type": "code",
   "execution_count": null,
   "metadata": {},
   "outputs": [],
   "source": [
    "EXTENT_SIZE_3D = (101, 101, 51)  # Total dimensions including the zero index\n",
    "EXTENT_SIZE_2D = (101, 101)  # Expected dimensions for 2D rendering\n",
    "\n",
    "ORIGIN = (0, 0, 0)\n",
    "SPACING = (1, 1, 1)\n",
    "CELL_DATA = \"Spin\"  # Used specifically for the Scalars attribute in CellData"
   ]
  },
  {
   "cell_type": "markdown",
   "metadata": {},
   "source": [
    "## numpy_to_vtk_file Function\n",
    "\n",
    "Convert a 2D NumPy array to a `vtkImageData` object and save it as a VTK file.\n",
    "\n",
    "### Parameters:\n",
    "- `data_array` (`np.ndarray`): The NumPy array to convert.\n",
    "- `output_path` (`str`): The file path where the VTK file will be saved.\n",
    "- `spacing` (`tuple`, optional): The spacing between data points in the `vtkImageData`. Defaults to `(1.0, 1.0, 1.0)`.\n",
    "- `origin` (`tuple`, optional): The origin of the `vtkImageData`. Defaults to `(0.0, 0.0, 0.0)`.\n",
    "\n",
    "### Returns:\n",
    "- `None`: The function does not return a value but writes directly to the specified file path.\n",
    "\n",
    "### Description:\n",
    "This function takes a 2D numpy array, converts it into a VTK image data object using `vtk.vtkImageData`, and then writes it to a file specified by `output_path`. The VTK image data includes configurable spacing and origin settings to allow for proper scaling and positioning within the VTK environment.\n"
   ]
  },
  {
   "cell_type": "code",
   "execution_count": null,
   "metadata": {},
   "outputs": [],
   "source": [
    "def numpy_to_vtk_file(data_array: np.ndarray, output_path: str, spacing=SPACING, origin=ORIGIN) -> None:\n",
    "    dimx, dimy = data_array.shape\n",
    "    dimx, dimy = dimx + 1, dimy + 1\n",
    "\n",
    "    # Create a vtkImageData object\n",
    "    image_data = vtk.vtkImageData()\n",
    "    image_data.SetDimensions(dimx, dimy, 1) \n",
    "    image_data.SetSpacing(spacing)\n",
    "    image_data.SetOrigin(origin)\n",
    "    image_data.AllocateScalars(vtk.VTK_INT, 1)\n",
    "\n",
    "    # Convert the NumPy array to a VTK array\n",
    "    vtk_data_array = numpy_to_vtk(num_array=data_array.ravel(), deep=True)\n",
    "\n",
    "    vtk_data_array.SetName(CELL_DATA)\n",
    "    vtk_data_array.SetNumberOfComponents(1)\n",
    "\n",
    "    image_data.GetCellData().SetScalars(vtk_data_array)\n",
    "    image_data.GetPointData().RemoveArray(0)\n",
    "\n",
    "    writer = vtk.vtkXMLImageDataWriter()\n",
    "    writer.SetFileName(output_path)\n",
    "    writer.SetInputData(image_data)\n",
    "    writer.SetDataModeToAscii()\n",
    "    writer.EncodeAppendedDataOff()\n",
    "    writer.SetCompressor(None)\n",
    "\n",
    "    writer.Write()"
   ]
  },
  {
   "cell_type": "markdown",
   "metadata": {},
   "source": [
    "## render_2D_from_numpy Function\n",
    "\n",
    "Render a 2D image from a 2D slice of a NumPy array and save it as an image file using PyVista.\n",
    "\n",
    "### Parameters:\n",
    "- `numpy_array` (`np.ndarray`): A 2D NumPy array or a 2D slice of a 3D array. The shape of the array should be (height, width) or (height, width, 1).\n",
    "- `filename` (`str`, optional): The name of the file where the image will be saved. Defaults to \"visual_np.png\".\n",
    "\n",
    "### Returns:\n",
    "- `None`: The function does not return any value but writes the rendered image directly to the specified file.\n",
    "\n",
    "### Description:\n",
    "This function takes a 2D numpy array or a slice from a 3D numpy array and renders it as a 2D image. The rendering uses PyVista, a 3D plotting and mesh analysis toolkit. The rendering process is performed off-screen, and the resulting image is saved to the specified file. This function is ideal for visualizing 2D data slices from 3D datasets."
   ]
  },
  {
   "cell_type": "code",
   "execution_count": null,
   "metadata": {},
   "outputs": [],
   "source": [
    "def check_array_dimensions(numpy_array: np.ndarray, extent_size: tuple):\n",
    "    expected_shape = tuple(e - 1 for e in extent_size)\n",
    "    if numpy_array.shape != expected_shape:\n",
    "        raise ValueError(\n",
    "            f\"Array dimensions {numpy_array.shape} do not match the expected dimensions {expected_shape}.\"\n",
    "        )\n",
    "\n",
    "    return True\n",
    "\n",
    "\n",
    "def render_2D_from_numpy(numpy_array: np.ndarray, filename: str = \"visual_np.png\"):\n",
    "    check_array_dimensions(numpy_array, extent_size=EXTENT_SIZE_2D)\n",
    "\n",
    "    grid = pv.ImageData()  \n",
    "    grid.dimensions = (\n",
    "        numpy_array.shape[0] + 1,\n",
    "        numpy_array.shape[1] + 1,\n",
    "        1,\n",
    "    )  # Note the ordering of dimensions\n",
    "    grid.spacing = SPACING\n",
    "    grid.origin = ORIGIN\n",
    "    grid.cell_data[CELL_DATA] = numpy_array.flatten(order=\"C\")\n",
    "\n",
    "    pv.start_xvfb()\n",
    "    plotter = pv.Plotter(off_screen=True)\n",
    "    plotter.add_mesh(grid, cmap=\"viridis\", show_edges=False)\n",
    "\n",
    "    plotter.show(auto_close=False)\n",
    "    plotter.screenshot(filename)\n",
    "    plotter.close()\n"
   ]
  },
  {
   "cell_type": "markdown",
   "metadata": {},
   "source": [
    "## visualize_all_sequence_from_numpy Function\n",
    "\n",
    "Renders each frame from a sequence of NumPy arrays as an image and saves them to disk.\n",
    "\n",
    "### Parameters:\n",
    "- `sequence` (`List[np.ndarray]`): A list of NumPy arrays, where each array represents image data for a frame.\n",
    "\n",
    "### Behavior:\n",
    "- Iterates through each element in the sequence.\n",
    "- Checks if the element is a valid NumPy array and renders it as an image using the `render_2D_from_numpy` function.\n",
    "- If an element is not a NumPy array, skips rendering for that index and prints a message indicating the skipped index."
   ]
  },
  {
   "cell_type": "code",
   "execution_count": null,
   "metadata": {},
   "outputs": [],
   "source": [
    "def visualize_all_sequence_from_numpy(sequence: List[np.ndarray], filename: str = \"instance\") -> None:\n",
    "    for i, frame in enumerate(sequence):\n",
    "        if isinstance(frame, np.ndarray):\n",
    "            render_2D_from_numpy(frame, filename=f'{filename}_{i}.png')\n",
    "        else:\n",
    "            print(f\"Skipping index {i}: not a numpy array\")"
   ]
  },
  {
   "cell_type": "markdown",
   "metadata": {},
   "source": [
    "## H5_Handler Class\n",
    "\n",
    "A utility class for handling operations on HDF5 files, particularly for extracting and managing sequences of images from experiments."
   ]
  },
  {
   "cell_type": "code",
   "execution_count": null,
   "metadata": {},
   "outputs": [],
   "source": [
    "class H5_Handler:\n",
    "    def __init__(self, file_path):\n",
    "        self.file_path = file_path\n",
    "        self.experiments_length = self.extract_length(file_path)\n",
    "\n",
    "    def extract_length(self, filename):\n",
    "        # Use a regular expression to find 'len' followed by an underscore and one or more digits\n",
    "        match = re.search(r'len_(\\d+)', self.file_path)\n",
    "        if match:\n",
    "            return int(match.group(1))  # Convert the matched string (digits only) to an integer\n",
    "        else:\n",
    "            return None  # Return None if no match is found\n",
    "\n",
    "    def load_experiment(self, video_idx):\n",
    "        \"\"\"\n",
    "        Read and return a range of images from the HDF5 file.\n",
    "\n",
    "        video_index (int): Index of the video for which frames are to be loaded (0-indexed).\n",
    "        return:numpy.ndarray: Array of frames for the specified video.\n",
    "        \"\"\"\n",
    "        start_idx = video_idx * self.experiments_length\n",
    "        end_idx = start_idx + self.experiments_length\n",
    "\n",
    "        with h5py.File(self.file_path, \"r\") as file:\n",
    "            images = file[\"images\"][start_idx:end_idx]\n",
    "        return images\n",
    "\n",
    "\n",
    "    def get_total_frames(self):\n",
    "        \"\"\"\n",
    "        Get the total number of frames (images) in the HDF5 file.\n",
    "\n",
    "        return: int, the total number of images in the file.\n",
    "        \"\"\"\n",
    "        with h5py.File(self.file_path, \"r\") as file:\n",
    "            num_frames = len(file[\"images\"])\n",
    "        return num_frames\n",
    "\n",
    "    def get_total_experiments(self):\n",
    "        \"\"\"\n",
    "        Get the total number of experiments (temporal sequence of images) in the HDF5 file.\n",
    "\n",
    "        return: int, the total number of experiments stored in the file.\n",
    "        \"\"\"\n",
    "        with h5py.File(self.file_path, \"r\") as file:\n",
    "            num_frames = len(file[\"images\"])\n",
    "        \n",
    "        return num_frames // self.experiments_length\n"
   ]
  },
  {
   "cell_type": "markdown",
   "metadata": {},
   "source": [
    "## Executing the functions\n",
    "\n",
    "This code snippet demonstrates how to initialize an `H5_Handler` object with a specified HDF5 file. This object will be used to manage data extraction and manipulation for experiments stored in HDF5 format.\n",
    "\n",
    "After initializing the `data_handler`, you can use it to load data, retrieve information about the number of experiments, frames, etc. "
   ]
  },
  {
   "cell_type": "code",
   "execution_count": null,
   "metadata": {},
   "outputs": [],
   "source": [
    "data_path = \"/insert/your/data/path/all_experiments\"\n",
    "experiment = \"exp_1_len_90_2D.h5\"\n",
    "\n",
    "data_handler = H5_Handler(os.path.join(data_path, experiment))\n",
    "data_handler"
   ]
  },
  {
   "cell_type": "markdown",
   "metadata": {},
   "source": [
    "You can use the initialized `H5_Handler` object to load a sequence of images from a specific experiment within the HDF5 file"
   ]
  },
  {
   "cell_type": "code",
   "execution_count": null,
   "metadata": {},
   "outputs": [],
   "source": [
    "video_idx = 0 # For example, load frames from video 2 (index 1)\n",
    "sequence_0 = data_handler.load_experiment(video_idx)\n",
    "len(sequence_0)"
   ]
  },
  {
   "cell_type": "markdown",
   "metadata": {},
   "source": [
    "You can now visualize the sequence of images stored in a NumPy array and convert each image in the sequence to a VTI (VTK Image Data) file format for further use in visualization and analysis tools that support VTI.\n",
    "\n",
    "This approach is particularly useful for processing and analyzing sequences of 2D images extracted from larger datasets, such as time-series data from scientific experiments. The visualization step allows for a quick quality check of the images, while converting to VTI files prepares the data for advanced visualization and analysis in applications like ParaView.\n",
    "\n",
    "### Example Output Files:\n",
    "- Image files: `image_0.png`, `image_1.png`, ..., `image_n.png`\n",
    "- VTI files: `process_2d.vti.0`, `process_2d.vti.1`, ..., `process_2d.vti.n`\n",
    "\n",
    "The saved VTI files can be loaded into VTK-compatible visualization software to explore the data in more detail or to perform computational analyses on the image data."
   ]
  },
  {
   "cell_type": "code",
   "execution_count": null,
   "metadata": {},
   "outputs": [],
   "source": [
    "visualize_all_sequence_from_numpy(sequence_0, 'image')\n",
    "\n",
    "for i, frame in enumerate(sequence_0):\n",
    "  numpy_to_vtk_file(frame, f'process_2d.vti.{i}')"
   ]
  }
 ],
 "metadata": {
  "kernelspec": {
   "display_name": "Python 3.10.4 ('esa2023')",
   "language": "python",
   "name": "python3"
  },
  "language_info": {
   "codemirror_mode": {
    "name": "ipython",
    "version": 3
   },
   "file_extension": ".py",
   "mimetype": "text/x-python",
   "name": "python",
   "nbconvert_exporter": "python",
   "pygments_lexer": "ipython3",
   "version": "3.10.4"
  },
  "orig_nbformat": 4,
  "vscode": {
   "interpreter": {
    "hash": "baba9c7f38deb07cb8f3fd0ce1b4598cc81c6dbcb2b7e8a0c8280d3913d35a88"
   }
  }
 },
 "nbformat": 4,
 "nbformat_minor": 2
}
